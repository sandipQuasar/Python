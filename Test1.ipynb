{
 "cells": [
  {
   "cell_type": "code",
   "execution_count": 20,
   "id": "cc60b3bc",
   "metadata": {},
   "outputs": [
    {
     "name": "stdout",
     "output_type": "stream",
     "text": [
      "Tiger\n",
      "Elephant\n",
      "Lion\n"
     ]
    }
   ],
   "source": [
    "animals= ['Tiger', 'Elephant', 'Lion']\n",
    "a, b, c= animals\n",
    "print(a)\n",
    "print(b)\n",
    "print(animals[2])"
   ]
  },
  {
   "cell_type": "code",
   "execution_count": 21,
   "id": "dee3b276",
   "metadata": {},
   "outputs": [
    {
     "name": "stdout",
     "output_type": "stream",
     "text": [
      "TigerElephant\n"
     ]
    }
   ],
   "source": [
    "print (a+b)"
   ]
  },
  {
   "cell_type": "code",
   "execution_count": 28,
   "id": "3f01cb3d",
   "metadata": {},
   "outputs": [
    {
     "ename": "SyntaxError",
     "evalue": "unexpected character after line continuation character (Temp/ipykernel_7944/95734149.py, line 1)",
     "output_type": "error",
     "traceback": [
      "\u001b[1;36m  File \u001b[1;32m\"C:\\Users\\Sandip\\AppData\\Local\\Temp/ipykernel_7944/95734149.py\"\u001b[1;36m, line \u001b[1;32m1\u001b[0m\n\u001b[1;33m    print (a \\+ b)\u001b[0m\n\u001b[1;37m                 ^\u001b[0m\n\u001b[1;31mSyntaxError\u001b[0m\u001b[1;31m:\u001b[0m unexpected character after line continuation character\n"
     ]
    }
   ],
   "source": [
    "print (a + b)"
   ]
  },
  {
   "cell_type": "code",
   "execution_count": 54,
   "id": "1194be9e",
   "metadata": {},
   "outputs": [
    {
     "name": "stdout",
     "output_type": "stream",
     "text": [
      "Apple\n"
     ]
    }
   ],
   "source": [
    "a ='Orange'\n",
    "def afunc():\n",
    "    global a\n",
    "    a = 'Apple'\n",
    "    print (a)\n",
    "afunc()\n",
    "#print(a)"
   ]
  },
  {
   "cell_type": "code",
   "execution_count": 19,
   "id": "455386e2",
   "metadata": {},
   "outputs": [
    {
     "name": "stdout",
     "output_type": "stream",
     "text": [
      "2\n"
     ]
    }
   ],
   "source": [
    "import numpy as np\n",
    "a= np.array([[1,2,3] , [4,5,6]])\n",
    "print(a.ndim)"
   ]
  },
  {
   "cell_type": "code",
   "execution_count": 9,
   "id": "dc66d2c0",
   "metadata": {},
   "outputs": [
    {
     "data": {
      "text/plain": [
       "array([1, 4])"
      ]
     },
     "execution_count": 9,
     "metadata": {},
     "output_type": "execute_result"
    }
   ],
   "source": [
    "np.arange(1,6,3)"
   ]
  },
  {
   "cell_type": "code",
   "execution_count": 12,
   "id": "f5b7d518",
   "metadata": {},
   "outputs": [
    {
     "data": {
      "text/plain": [
       "array([1.        , 1.66666667, 2.33333333, 3.        , 3.66666667,\n",
       "       4.33333333, 5.        ])"
      ]
     },
     "execution_count": 12,
     "metadata": {},
     "output_type": "execute_result"
    }
   ],
   "source": [
    "np.linspace(1,5,7)"
   ]
  },
  {
   "cell_type": "code",
   "execution_count": 20,
   "id": "eac6a743",
   "metadata": {},
   "outputs": [
    {
     "data": {
      "text/plain": [
       "array([[[1, 1],\n",
       "        [1, 1],\n",
       "        [1, 1],\n",
       "        [1, 1]],\n",
       "\n",
       "       [[1, 1],\n",
       "        [1, 1],\n",
       "        [1, 1],\n",
       "        [1, 1]],\n",
       "\n",
       "       [[1, 1],\n",
       "        [1, 1],\n",
       "        [1, 1],\n",
       "        [1, 1]]])"
      ]
     },
     "execution_count": 20,
     "metadata": {},
     "output_type": "execute_result"
    }
   ],
   "source": [
    "np.full((3,4,2),1)"
   ]
  },
  {
   "cell_type": "code",
   "execution_count": 36,
   "id": "b0494967",
   "metadata": {},
   "outputs": [
    {
     "name": "stdout",
     "output_type": "stream",
     "text": [
      "[ 1  3  5  7  9 11 13 15 17 19]\n"
     ]
    }
   ],
   "source": [
    "b=np.arange(1,20,2)\n",
    "c=b.reshape(10) #without the first number or the row value it takes \"1\" as default\n",
    "print(c)"
   ]
  },
  {
   "cell_type": "code",
   "execution_count": 8,
   "id": "700695ef",
   "metadata": {},
   "outputs": [
    {
     "data": {
      "text/plain": [
       "2294350280480"
      ]
     },
     "execution_count": 8,
     "metadata": {},
     "output_type": "execute_result"
    }
   ],
   "source": [
    "a=1267543675485778943624577547687985768767957878\n",
    "id(a)"
   ]
  },
  {
   "cell_type": "code",
   "execution_count": 6,
   "id": "405466ba",
   "metadata": {},
   "outputs": [
    {
     "data": {
      "text/plain": [
       "9"
      ]
     },
     "execution_count": 6,
     "metadata": {},
     "output_type": "execute_result"
    }
   ],
   "source": [
    "import math\n",
    "a= 8.8\n",
    "math.ceil(a)"
   ]
  },
  {
   "cell_type": "code",
   "execution_count": 51,
   "id": "4f92f9bf",
   "metadata": {},
   "outputs": [
    {
     "name": "stdout",
     "output_type": "stream",
     "text": [
      "[[ 1  2  3  0  0  0]\n",
      " [ 0  7 12  7  8  9]]\n"
     ]
    }
   ],
   "source": [
    "import numpy\n",
    "array_1 = numpy.array([[1,2,3],[0,7,12]]) \n",
    "array_2 = numpy.array([[0,0,0],[7,8,9]]) \n",
    "print(numpy.concatenate((array_1, array_2), axis = 1))\n"
   ]
  },
  {
   "cell_type": "code",
   "execution_count": 26,
   "id": "4d49d205",
   "metadata": {},
   "outputs": [
    {
     "name": "stdout",
     "output_type": "stream",
     "text": [
      "[1, 4, 9, 16, 25, 36, 49, 64, 81, 100]\n"
     ]
    }
   ],
   "source": [
    "a=[*range(1,11,1)]\n",
    "a_sq=[i**2 for i in a]\n",
    "print(a_sq)"
   ]
  },
  {
   "cell_type": "code",
   "execution_count": 60,
   "id": "eb3ac611",
   "metadata": {},
   "outputs": [
    {
     "name": "stdout",
     "output_type": "stream",
     "text": [
      "The Year: 2005 Not a leap year!\n"
     ]
    }
   ],
   "source": [
    "def year(a):\n",
    "    if (a%4 == 0): print ('The year: {} is leap year'.format(a));\n",
    "    else: print(f'The Year: {a} Not a leap year!'); \n",
    "year(2005)"
   ]
  },
  {
   "cell_type": "code",
   "execution_count": null,
   "id": "a84800a0",
   "metadata": {},
   "outputs": [],
   "source": []
  }
 ],
 "metadata": {
  "kernelspec": {
   "display_name": "Python 3 (ipykernel)",
   "language": "python",
   "name": "python3"
  },
  "language_info": {
   "codemirror_mode": {
    "name": "ipython",
    "version": 3
   },
   "file_extension": ".py",
   "mimetype": "text/x-python",
   "name": "python",
   "nbconvert_exporter": "python",
   "pygments_lexer": "ipython3",
   "version": "3.9.7"
  }
 },
 "nbformat": 4,
 "nbformat_minor": 5
}
