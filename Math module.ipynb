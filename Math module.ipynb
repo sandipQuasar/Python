{
 "cells": [
  {
   "cell_type": "code",
   "execution_count": 13,
   "id": "ec15e65a",
   "metadata": {},
   "outputs": [
    {
     "name": "stdout",
     "output_type": "stream",
     "text": [
      "True\n"
     ]
    }
   ],
   "source": [
    "import math\n",
    "x=3\n",
    "y=6\n",
    "print(math.isinf(y))"
   ]
  },
  {
   "cell_type": "code",
   "execution_count": null,
   "id": "a288466e",
   "metadata": {},
   "outputs": [],
   "source": [
    "while x<y:\n",
    " x+=1\n",
    " print ('good')\n",
    " if x==5:\n",
    " break\n",
    " \n",
    "print (x)"
   ]
  },
  {
   "cell_type": "code",
   "execution_count": 39,
   "id": "2afb0ae6",
   "metadata": {},
   "outputs": [
    {
     "name": "stdout",
     "output_type": "stream",
     "text": [
      "False\n"
     ]
    }
   ],
   "source": [
    "print (x>y)"
   ]
  },
  {
   "cell_type": "code",
   "execution_count": null,
   "id": "05e5c326",
   "metadata": {},
   "outputs": [],
   "source": []
  }
 ],
 "metadata": {
  "kernelspec": {
   "display_name": "Python 3 (ipykernel)",
   "language": "python",
   "name": "python3"
  },
  "language_info": {
   "codemirror_mode": {
    "name": "ipython",
    "version": 3
   },
   "file_extension": ".py",
   "mimetype": "text/x-python",
   "name": "python",
   "nbconvert_exporter": "python",
   "pygments_lexer": "ipython3",
   "version": "3.9.7"
  }
 },
 "nbformat": 4,
 "nbformat_minor": 5
}
