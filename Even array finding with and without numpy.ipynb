{
 "cells": [
  {
   "cell_type": "markdown",
   "id": "4c28d1d9",
   "metadata": {},
   "source": [
    "# collecting the even numbers from one array and print in another"
   ]
  },
  {
   "cell_type": "code",
   "execution_count": 7,
   "id": "0f4f1691",
   "metadata": {},
   "outputs": [
    {
     "name": "stdout",
     "output_type": "stream",
     "text": [
      "[1, 2, 3, 4, 5, 6, 7, 8, 9, 10, 11, 12, 13, 14, 15, 16, 17, 18, 19, 20]\n",
      "Answer: [2, 4, 6, 8, 10, 12, 14, 16, 18, 20]\n"
     ]
    }
   ],
   "source": [
    "complete_array = [*range(1,21)]\n",
    "print (complete_array)\n",
    "\n",
    "even_array = [i for i in complete_array if i%2==0]\n",
    "print (f'Answer: {even_array}' )"
   ]
  },
  {
   "cell_type": "markdown",
   "id": "19366bae",
   "metadata": {},
   "source": [
    "# With numpy"
   ]
  },
  {
   "cell_type": "code",
   "execution_count": 1,
   "id": "1696cd02",
   "metadata": {},
   "outputs": [
    {
     "name": "stdout",
     "output_type": "stream",
     "text": [
      "[ 1  2  3  4  5  6  7  8  9 10 11 12 13 14 15 16 17 18 19 20]\n",
      "[ 2  4  6  8 10 12 14 16 18 20]\n"
     ]
    }
   ],
   "source": [
    "import numpy as np\n",
    "complete_array = np.arange(1,21)\n",
    "print (complete_array)\n",
    "\n",
    "even_array = complete_array[complete_array%2==0]\n",
    "print (even_array)"
   ]
  },
  {
   "cell_type": "code",
   "execution_count": null,
   "id": "5b886db9",
   "metadata": {},
   "outputs": [],
   "source": []
  }
 ],
 "metadata": {
  "kernelspec": {
   "display_name": "Python 3 (ipykernel)",
   "language": "python",
   "name": "python3"
  },
  "language_info": {
   "codemirror_mode": {
    "name": "ipython",
    "version": 3
   },
   "file_extension": ".py",
   "mimetype": "text/x-python",
   "name": "python",
   "nbconvert_exporter": "python",
   "pygments_lexer": "ipython3",
   "version": "3.9.7"
  }
 },
 "nbformat": 4,
 "nbformat_minor": 5
}
